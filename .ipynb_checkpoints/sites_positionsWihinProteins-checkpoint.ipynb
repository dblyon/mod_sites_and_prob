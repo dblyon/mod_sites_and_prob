{
 "cells": [
  {
   "cell_type": "code",
   "execution_count": 19,
   "metadata": {},
   "outputs": [
    {
     "data": {
      "text/plain": [
       "<module 'sites_positionWithinProteins' from 'sites_positionWithinProteins.pyc'>"
      ]
     },
     "execution_count": 19,
     "metadata": {},
     "output_type": "execute_result"
    }
   ],
   "source": [
    "import sites_positionWithinProteins as pos\n",
    "reload(pos)"
   ]
  },
  {
   "cell_type": "code",
   "execution_count": 2,
   "metadata": {
    "collapsed": true
   },
   "outputs": [],
   "source": [
    "fn_fasta = r\"/Volumes/Speedy/FASTA/HUMAN20150706.fasta\"\n",
    "fn_evidence = r\"/Users/dblyon/CloudStation/CPR/BTW_sites/sites_positionsWithinProteins_input_v2.txt\""
   ]
  },
  {
   "cell_type": "code",
   "execution_count": 4,
   "metadata": {},
   "outputs": [],
   "source": [
    "fn_fasta\n",
    "fa = pos.Fasta()\n",
    "fa.set_file(fn_fasta)\n",
    "fa.parse_fasta()"
   ]
  },
  {
   "cell_type": "code",
   "execution_count": 28,
   "metadata": {
    "collapsed": true
   },
   "outputs": [],
   "source": [
    "COLUMN_MODSEQ = \"Modified sequence\"\n",
    "COLUMN_PROTEINS = \"Proteins\"\n",
    "COLUMN_MODPROB = \"Acetyl (K) Probabilities\"\n",
    "COLUMN_ID = \"id\"\n",
    "MODTYPE = \"(ac)\"\n",
    "\n",
    "##### new columns\n",
    "COLUMN_SITES = \"Sites\"\n",
    "COLUMN_PROB = \"Probability\"\n",
    "remove_n_terminal_acetylation = True\n",
    "\n",
    "df = pd.read_csv(fn_evidence, sep='\\t', low_memory=False)\n",
    "df.dropna(axis=0, how=\"all\", inplace=True)\n",
    "\n",
    "df[\"pepseq\"] = df[COLUMN_MODSEQ].apply(lambda aaseq: aaseq.replace(\"_\", \"\").replace(MODTYPE, \"\"))\n",
    "df[\"pepseq\"] = df[\"pepseq\"].apply(pos.remove_modification_in_parentheses)\n",
    "df[\"start_pos\"] = df.apply(pos.get_start_position_of_sequence_proteinGroups, args=(fa, ), axis=1)"
   ]
  },
  {
   "cell_type": "code",
   "execution_count": 29,
   "metadata": {},
   "outputs": [
    {
     "data": {
      "text/html": [
       "<div>\n",
       "<style>\n",
       "    .dataframe thead tr:only-child th {\n",
       "        text-align: right;\n",
       "    }\n",
       "\n",
       "    .dataframe thead th {\n",
       "        text-align: left;\n",
       "    }\n",
       "\n",
       "    .dataframe tbody tr th {\n",
       "        vertical-align: top;\n",
       "    }\n",
       "</style>\n",
       "<table border=\"1\" class=\"dataframe\">\n",
       "  <thead>\n",
       "    <tr style=\"text-align: right;\">\n",
       "      <th></th>\n",
       "      <th>Id</th>\n",
       "      <th>Proteins</th>\n",
       "      <th>Modified sequence</th>\n",
       "      <th>pepseq</th>\n",
       "      <th>start_pos</th>\n",
       "    </tr>\n",
       "  </thead>\n",
       "  <tbody>\n",
       "    <tr>\n",
       "      <th>0</th>\n",
       "      <td>5</td>\n",
       "      <td>A0A087WWN0</td>\n",
       "      <td>_ISLFTLK(ac)R_</td>\n",
       "      <td>ISLFTLKR</td>\n",
       "      <td>49</td>\n",
       "    </tr>\n",
       "    <tr>\n",
       "      <th>1</th>\n",
       "      <td>11</td>\n",
       "      <td>O95696;O95696-2;J3KQ61</td>\n",
       "      <td>_ESSVK(ac)TVR_</td>\n",
       "      <td>ESSVKTVR</td>\n",
       "      <td>413;413;45</td>\n",
       "    </tr>\n",
       "    <tr>\n",
       "      <th>2</th>\n",
       "      <td>4</td>\n",
       "      <td>Q92793;Q92793-2</td>\n",
       "      <td>_KEESTAASETTEGSQGDSK(ac)NAK_</td>\n",
       "      <td>KEESTAASETTEGSQGDSKNAK</td>\n",
       "      <td>1564;1526</td>\n",
       "    </tr>\n",
       "    <tr>\n",
       "      <th>3</th>\n",
       "      <td>12</td>\n",
       "      <td>P63241;I3L397;I3L504;P63241-2;Q9GZV4;F8WCJ1;C9...</td>\n",
       "      <td>_IVEM(ox)STSK(ac)TGK_</td>\n",
       "      <td>IVEMSTSKTGK</td>\n",
       "      <td>39;39;39;69;39;39;39;20</td>\n",
       "    </tr>\n",
       "    <tr>\n",
       "      <th>4</th>\n",
       "      <td>9</td>\n",
       "      <td>O15228;O15228-2</td>\n",
       "      <td>_LGVVEK(ac)K_</td>\n",
       "      <td>LGVVEKK</td>\n",
       "      <td>637;576</td>\n",
       "    </tr>\n",
       "  </tbody>\n",
       "</table>\n",
       "</div>"
      ],
      "text/plain": [
       "   Id                                           Proteins  \\\n",
       "0   5                                         A0A087WWN0   \n",
       "1  11                             O95696;O95696-2;J3KQ61   \n",
       "2   4                                    Q92793;Q92793-2   \n",
       "3  12  P63241;I3L397;I3L504;P63241-2;Q9GZV4;F8WCJ1;C9...   \n",
       "4   9                                    O15228;O15228-2   \n",
       "\n",
       "              Modified sequence                  pepseq  \\\n",
       "0                _ISLFTLK(ac)R_                ISLFTLKR   \n",
       "1                _ESSVK(ac)TVR_                ESSVKTVR   \n",
       "2  _KEESTAASETTEGSQGDSK(ac)NAK_  KEESTAASETTEGSQGDSKNAK   \n",
       "3         _IVEM(ox)STSK(ac)TGK_             IVEMSTSKTGK   \n",
       "4                 _LGVVEK(ac)K_                 LGVVEKK   \n",
       "\n",
       "                 start_pos  \n",
       "0                       49  \n",
       "1               413;413;45  \n",
       "2                1564;1526  \n",
       "3  39;39;39;69;39;39;39;20  \n",
       "4                  637;576  "
      ]
     },
     "execution_count": 29,
     "metadata": {},
     "output_type": "execute_result"
    }
   ],
   "source": [
    "df.head()"
   ]
  },
  {
   "cell_type": "code",
   "execution_count": 55,
   "metadata": {
    "collapsed": true
   },
   "outputs": [],
   "source": [
    "df = df.head()"
   ]
  },
  {
   "cell_type": "code",
   "execution_count": 62,
   "metadata": {},
   "outputs": [
    {
     "data": {
      "text/html": [
       "<div>\n",
       "<style>\n",
       "    .dataframe thead tr:only-child th {\n",
       "        text-align: right;\n",
       "    }\n",
       "\n",
       "    .dataframe thead th {\n",
       "        text-align: left;\n",
       "    }\n",
       "\n",
       "    .dataframe tbody tr th {\n",
       "        vertical-align: top;\n",
       "    }\n",
       "</style>\n",
       "<table border=\"1\" class=\"dataframe\">\n",
       "  <thead>\n",
       "    <tr style=\"text-align: right;\">\n",
       "      <th></th>\n",
       "      <th>Id</th>\n",
       "      <th>Proteins</th>\n",
       "      <th>Modified sequence</th>\n",
       "      <th>pepseq</th>\n",
       "      <th>start_pos</th>\n",
       "      <th>Sites_pos_within_pep</th>\n",
       "    </tr>\n",
       "  </thead>\n",
       "  <tbody>\n",
       "    <tr>\n",
       "      <th>0</th>\n",
       "      <td>5</td>\n",
       "      <td>A0A087WWN0</td>\n",
       "      <td>_ISLFTLK(ac)R_</td>\n",
       "      <td>ISLFTLKR</td>\n",
       "      <td>nan</td>\n",
       "      <td></td>\n",
       "    </tr>\n",
       "    <tr>\n",
       "      <th>1</th>\n",
       "      <td>11</td>\n",
       "      <td>O95696;O95696-2;J3KQ61</td>\n",
       "      <td>_ESSVK(ac)TVR_</td>\n",
       "      <td>ESSVKTVR</td>\n",
       "      <td>413;nan;45</td>\n",
       "      <td>(418);(418);(50)</td>\n",
       "    </tr>\n",
       "    <tr>\n",
       "      <th>2</th>\n",
       "      <td>4</td>\n",
       "      <td>Q92793;Q92793-2</td>\n",
       "      <td>_KEESTAASETTEGSQGDSK(ac)NAK_</td>\n",
       "      <td>KEESTAASETTEGSQGDSKNAK</td>\n",
       "      <td>1564;1526</td>\n",
       "      <td>(1583);(1545)</td>\n",
       "    </tr>\n",
       "    <tr>\n",
       "      <th>3</th>\n",
       "      <td>12</td>\n",
       "      <td>P63241;I3L397;I3L504;P63241-2;Q9GZV4;F8WCJ1;C9...</td>\n",
       "      <td>_IVEM(ox)STSK(ac)TGK_</td>\n",
       "      <td>IVEMSTSKTGK</td>\n",
       "      <td>39;39;39;69;39;39;39;20</td>\n",
       "      <td>(51);(51);(51);(81);(51);(51);(51);(32)</td>\n",
       "    </tr>\n",
       "    <tr>\n",
       "      <th>4</th>\n",
       "      <td>9</td>\n",
       "      <td>O15228;O15228-2</td>\n",
       "      <td>_LGVVEK(ac)K_</td>\n",
       "      <td>LGVVEKK</td>\n",
       "      <td>637;576</td>\n",
       "      <td>(643);(582)</td>\n",
       "    </tr>\n",
       "  </tbody>\n",
       "</table>\n",
       "</div>"
      ],
      "text/plain": [
       "   Id                                           Proteins  \\\n",
       "0   5                                         A0A087WWN0   \n",
       "1  11                             O95696;O95696-2;J3KQ61   \n",
       "2   4                                    Q92793;Q92793-2   \n",
       "3  12  P63241;I3L397;I3L504;P63241-2;Q9GZV4;F8WCJ1;C9...   \n",
       "4   9                                    O15228;O15228-2   \n",
       "\n",
       "              Modified sequence                  pepseq  \\\n",
       "0                _ISLFTLK(ac)R_                ISLFTLKR   \n",
       "1                _ESSVK(ac)TVR_                ESSVKTVR   \n",
       "2  _KEESTAASETTEGSQGDSK(ac)NAK_  KEESTAASETTEGSQGDSKNAK   \n",
       "3         _IVEM(ox)STSK(ac)TGK_             IVEMSTSKTGK   \n",
       "4                 _LGVVEK(ac)K_                 LGVVEKK   \n",
       "\n",
       "                 start_pos                     Sites_pos_within_pep  \n",
       "0                      nan                                           \n",
       "1               413;nan;45                         (418);(418);(50)  \n",
       "2                1564;1526                            (1583);(1545)  \n",
       "3  39;39;39;69;39;39;39;20  (51);(51);(51);(81);(51);(51);(51);(32)  \n",
       "4                  637;576                              (643);(582)  "
      ]
     },
     "execution_count": 62,
     "metadata": {},
     "output_type": "execute_result"
    }
   ],
   "source": [
    "df"
   ]
  },
  {
   "cell_type": "code",
   "execution_count": 61,
   "metadata": {
    "collapsed": true
   },
   "outputs": [],
   "source": [
    "df.loc[1, \"start_pos\"] = \"413;nan;45\""
   ]
  },
  {
   "cell_type": "code",
   "execution_count": 30,
   "metadata": {},
   "outputs": [
    {
     "data": {
      "text/plain": [
       "[12, 15]"
      ]
     },
     "execution_count": 30,
     "metadata": {},
     "output_type": "execute_result"
    }
   ],
   "source": [
    "pepseq_mod = \"_IVEM(ox)STSK(ac)TGK(ac)_\"\n",
    "sites_list = pos.parse_sites_within_pepseq(pepseq_mod, [])\n",
    "sites_list"
   ]
  },
  {
   "cell_type": "code",
   "execution_count": 70,
   "metadata": {},
   "outputs": [],
   "source": [
    "COLUMN_MODSEQ_index = df.columns.tolist().index(COLUMN_MODSEQ) + 1 # due to index\n",
    "start_pos_index = df.columns.tolist().index(\"start_pos\") + 1 # due to index\n",
    "Sites_pos_within_pep_list = []\n",
    "for row in df.itertuples():\n",
    "    mod_seq = row[COLUMN_MODSEQ_index]    \n",
    "    start_pos_list = row[start_pos_index].split(\";\") # string for every protein in proteinGroups the start position of the peptide\n",
    "    sites_list = pos.parse_sites_within_pepseq(mod_seq, [])\n",
    "    \n",
    "    sites_per_row = \"\"\n",
    "    for protein_start_pos in start_pos_list:\n",
    "        try:\n",
    "            protein_start_pos = int(float(protein_start_pos))\n",
    "        except ValueError:            \n",
    "            sites_per_row += \"(nan)\" + \";\" \n",
    "            continue\n",
    "        sites_per_protein = \"(\" + \"+\".join([str(site + protein_start_pos) for site in sites_list]) + \")\"\n",
    "        sites_per_row += sites_per_protein + \";\"\n",
    "    Sites_pos_within_pep_list.append(sites_per_row[:-1])\n",
    "df[\"Sites_pos_within_pep\"] = Sites_pos_within_pep_list"
   ]
  },
  {
   "cell_type": "code",
   "execution_count": 71,
   "metadata": {},
   "outputs": [
    {
     "data": {
      "text/html": [
       "<div>\n",
       "<style>\n",
       "    .dataframe thead tr:only-child th {\n",
       "        text-align: right;\n",
       "    }\n",
       "\n",
       "    .dataframe thead th {\n",
       "        text-align: left;\n",
       "    }\n",
       "\n",
       "    .dataframe tbody tr th {\n",
       "        vertical-align: top;\n",
       "    }\n",
       "</style>\n",
       "<table border=\"1\" class=\"dataframe\">\n",
       "  <thead>\n",
       "    <tr style=\"text-align: right;\">\n",
       "      <th></th>\n",
       "      <th>Id</th>\n",
       "      <th>Proteins</th>\n",
       "      <th>Modified sequence</th>\n",
       "      <th>pepseq</th>\n",
       "      <th>start_pos</th>\n",
       "      <th>Sites_pos_within_pep</th>\n",
       "    </tr>\n",
       "  </thead>\n",
       "  <tbody>\n",
       "    <tr>\n",
       "      <th>0</th>\n",
       "      <td>5</td>\n",
       "      <td>A0A087WWN0</td>\n",
       "      <td>_ISLFTLK(ac)R_</td>\n",
       "      <td>ISLFTLKR</td>\n",
       "      <td>nan</td>\n",
       "      <td>(nan)</td>\n",
       "    </tr>\n",
       "    <tr>\n",
       "      <th>1</th>\n",
       "      <td>11</td>\n",
       "      <td>O95696;O95696-2;J3KQ61</td>\n",
       "      <td>_ESSVK(ac)TVR_</td>\n",
       "      <td>ESSVKTVR</td>\n",
       "      <td>413;nan;45</td>\n",
       "      <td>(418);(nan);(50)</td>\n",
       "    </tr>\n",
       "    <tr>\n",
       "      <th>2</th>\n",
       "      <td>4</td>\n",
       "      <td>Q92793;Q92793-2</td>\n",
       "      <td>_KEESTAASETTEGSQGDSK(ac)NAK_</td>\n",
       "      <td>KEESTAASETTEGSQGDSKNAK</td>\n",
       "      <td>1564;1526</td>\n",
       "      <td>(1583);(1545)</td>\n",
       "    </tr>\n",
       "    <tr>\n",
       "      <th>3</th>\n",
       "      <td>12</td>\n",
       "      <td>P63241;I3L397;I3L504;P63241-2;Q9GZV4;F8WCJ1;C9...</td>\n",
       "      <td>_IVEM(ox)STSK(ac)TGK_</td>\n",
       "      <td>IVEMSTSKTGK</td>\n",
       "      <td>39;39;39;69;39;39;39;20</td>\n",
       "      <td>(51);(51);(51);(81);(51);(51);(51);(32)</td>\n",
       "    </tr>\n",
       "    <tr>\n",
       "      <th>4</th>\n",
       "      <td>9</td>\n",
       "      <td>O15228;O15228-2</td>\n",
       "      <td>_LGVVEK(ac)K_</td>\n",
       "      <td>LGVVEKK</td>\n",
       "      <td>637;576</td>\n",
       "      <td>(643);(582)</td>\n",
       "    </tr>\n",
       "  </tbody>\n",
       "</table>\n",
       "</div>"
      ],
      "text/plain": [
       "   Id                                           Proteins  \\\n",
       "0   5                                         A0A087WWN0   \n",
       "1  11                             O95696;O95696-2;J3KQ61   \n",
       "2   4                                    Q92793;Q92793-2   \n",
       "3  12  P63241;I3L397;I3L504;P63241-2;Q9GZV4;F8WCJ1;C9...   \n",
       "4   9                                    O15228;O15228-2   \n",
       "\n",
       "              Modified sequence                  pepseq  \\\n",
       "0                _ISLFTLK(ac)R_                ISLFTLKR   \n",
       "1                _ESSVK(ac)TVR_                ESSVKTVR   \n",
       "2  _KEESTAASETTEGSQGDSK(ac)NAK_  KEESTAASETTEGSQGDSKNAK   \n",
       "3         _IVEM(ox)STSK(ac)TGK_             IVEMSTSKTGK   \n",
       "4                 _LGVVEK(ac)K_                 LGVVEKK   \n",
       "\n",
       "                 start_pos                     Sites_pos_within_pep  \n",
       "0                      nan                                    (nan)  \n",
       "1               413;nan;45                         (418);(nan);(50)  \n",
       "2                1564;1526                            (1583);(1545)  \n",
       "3  39;39;39;69;39;39;39;20  (51);(51);(51);(81);(51);(51);(51);(32)  \n",
       "4                  637;576                              (643);(582)  "
      ]
     },
     "execution_count": 71,
     "metadata": {},
     "output_type": "execute_result"
    }
   ],
   "source": [
    "df.head()"
   ]
  },
  {
   "cell_type": "code",
   "execution_count": null,
   "metadata": {
    "collapsed": true
   },
   "outputs": [],
   "source": []
  },
  {
   "cell_type": "code",
   "execution_count": null,
   "metadata": {
    "collapsed": true
   },
   "outputs": [],
   "source": []
  },
  {
   "cell_type": "code",
   "execution_count": null,
   "metadata": {
    "collapsed": true
   },
   "outputs": [],
   "source": [
    "def add_length_of_peptide_2_start_pos(row):\n",
    "    pepseq = row[\"Modified sequence\"]\n",
    "    \n",
    "df[\"Positions within Proteins\"] = df.apply(add_length_of_peptide_2_start_pos, axis=1)"
   ]
  },
  {
   "cell_type": "code",
   "execution_count": 56,
   "metadata": {},
   "outputs": [
    {
     "data": {
      "text/plain": [
       "'MADDLDFETGDAGASATFPMQCSALRKNGFVVLKGRPCKIVEMSTSKTGKHGHAKVHLVGIDIFTGKKYEDICPSTHNMDVPNIKRNDFQLIGIQDGYLSLLQDSGEVREDLRLPEGDLGKEIEQKYDCGEEILITVLSAMTEEAAV'"
      ]
     },
     "execution_count": 56,
     "metadata": {},
     "output_type": "execute_result"
    }
   ],
   "source": [
    "aaseq = fa.an2aaseq_dict[\"I3L397\"]\n",
    "aaseq"
   ]
  },
  {
   "cell_type": "code",
   "execution_count": 58,
   "metadata": {},
   "outputs": [
    {
     "data": {
      "text/plain": [
       "'IVEMSTSKTGK'"
      ]
     },
     "execution_count": 58,
     "metadata": {},
     "output_type": "execute_result"
    }
   ],
   "source": [
    "aaseq[39:39+11]"
   ]
  },
  {
   "cell_type": "code",
   "execution_count": 57,
   "metadata": {},
   "outputs": [
    {
     "data": {
      "text/plain": [
       "11"
      ]
     },
     "execution_count": 57,
     "metadata": {},
     "output_type": "execute_result"
    }
   ],
   "source": [
    "len(\"IVEMSTSKTGK\")"
   ]
  },
  {
   "cell_type": "code",
   "execution_count": 14,
   "metadata": {},
   "outputs": [],
   "source": [
    "# import re\n",
    "# my_regex = re.compile(r\"(\\(\\w+\\))\")\n",
    "# df[\"pepseq_mod\"] = df[COLUMN_MODSEQ].apply(pos.remove_modifications_not_MODTYPE, args=(my_regex, remove_n_terminal_acetylation, ))\n",
    "# df = pos.add_COLUMN_SITES_and_PROB_2_df(df)"
   ]
  },
  {
   "cell_type": "code",
   "execution_count": 37,
   "metadata": {
    "collapsed": true
   },
   "outputs": [],
   "source": [
    "l = [1, 3, np.nan]"
   ]
  },
  {
   "cell_type": "code",
   "execution_count": 40,
   "metadata": {},
   "outputs": [
    {
     "data": {
      "text/plain": [
       "'1;3;nan'"
      ]
     },
     "execution_count": 40,
     "metadata": {},
     "output_type": "execute_result"
    }
   ],
   "source": [
    "\";\".join([str(ele) for ele in l])"
   ]
  },
  {
   "cell_type": "code",
   "execution_count": null,
   "metadata": {
    "collapsed": true
   },
   "outputs": [],
   "source": []
  },
  {
   "cell_type": "code",
   "execution_count": null,
   "metadata": {
    "collapsed": true
   },
   "outputs": [],
   "source": []
  },
  {
   "cell_type": "code",
   "execution_count": null,
   "metadata": {
    "collapsed": true
   },
   "outputs": [],
   "source": [
    "# add sites and probabilities\n",
    "my_regex = re.compile(r\"(\\(\\w+\\))\")\n",
    "df[\"pepseq_mod\"] = df[COLUMN_MODSEQ].apply(remove_modifications_not_MODTYPE, args=(my_regex, remove_n_terminal_acetylation, ))\n",
    "df = add_COLUMN_SITES_and_PROB_2_df(df)\n",
    "df = df[df[COLUMN_SITES].notnull()]\n",
    "\n",
    "if probability_threshold > 0:\n",
    "    df = df[df[COLUMN_PROB].apply(is_any_above_threshold, args=(probability_threshold,))]\n",
    "\n",
    "if conventional_counting > 0:\n",
    "    df[COLUMN_SITES] = df[COLUMN_SITES].apply(start_counting_from_num, args=(conventional_counting, )) #lambda num_string: \";\".join([str(int(float(num))) + conventional_counting for num in num_string.split(\";\")])\n",
    "\n",
    "# keep only relevant columns and write to file\n",
    "df2write = df[[COLUMN_ID, COLUMN_MODSEQ, COLUMN_MODPROB, COLUMN_LEADRAZPROT, COLUMN_SITES, COLUMN_PROB]]\n",
    "df2write[COLUMN_SITES] = df2write[COLUMN_SITES].apply(lambda ele: ele.replace(\".0\", \"\"))\n",
    "df2write.to_csv(fn_output, sep='\\t', header=True, index=False)"
   ]
  }
 ],
 "metadata": {
  "kernelspec": {
   "display_name": "Python 2",
   "language": "python",
   "name": "python2"
  },
  "language_info": {
   "codemirror_mode": {
    "name": "ipython",
    "version": 2
   },
   "file_extension": ".py",
   "mimetype": "text/x-python",
   "name": "python",
   "nbconvert_exporter": "python",
   "pygments_lexer": "ipython2",
   "version": "2.7.13"
  }
 },
 "nbformat": 4,
 "nbformat_minor": 2
}
