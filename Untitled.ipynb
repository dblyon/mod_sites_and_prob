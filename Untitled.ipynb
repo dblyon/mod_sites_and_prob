{
 "cells": [
  {
   "cell_type": "code",
   "execution_count": 55,
   "metadata": {
    "collapsed": true
   },
   "outputs": [],
   "source": [
    "from tqdm import tqdm"
   ]
  },
  {
   "cell_type": "code",
   "execution_count": 1,
   "metadata": {},
   "outputs": [],
   "source": [
    "import numpy as np\n",
    "import pandas as pd\n",
    "import os, re, sys\n",
    "pd.set_option(\"max_columns\", 500)"
   ]
  },
  {
   "cell_type": "code",
   "execution_count": 2,
   "metadata": {},
   "outputs": [
    {
     "data": {
      "text/plain": [
       "u'/Users/dblyon/modules/cpr/sites_BTW'"
      ]
     },
     "execution_count": 2,
     "metadata": {},
     "output_type": "execute_result"
    }
   ],
   "source": [
    "pwd"
   ]
  },
  {
   "cell_type": "code",
   "execution_count": 16,
   "metadata": {},
   "outputs": [
    {
     "data": {
      "text/plain": [
       "<module 'frequency_ofAA_NCterm_peptide' from 'frequency_ofAA_NCterm_peptide.py'>"
      ]
     },
     "execution_count": 16,
     "metadata": {},
     "output_type": "execute_result"
    }
   ],
   "source": [
    "import frequency_ofAA_NCterm_peptide as fnc\n",
    "reload(fnc)"
   ]
  },
  {
   "cell_type": "code",
   "execution_count": 4,
   "metadata": {
    "collapsed": true
   },
   "outputs": [],
   "source": [
    "fn_fasta = r\"/Volumes/Speedy/FASTA/Escherichia_coli_RefProt_20170505.fasta\"\n",
    "fa = fnc.Fasta()\n",
    "fa.set_file(fn_fasta)\n",
    "fa.parse_fasta()"
   ]
  },
  {
   "cell_type": "code",
   "execution_count": 7,
   "metadata": {},
   "outputs": [
    {
     "data": {
      "text/plain": [
       "[('P37646',\n",
       "  'MIRQVIQRISNPEASIESLQERRFWLQCERAYTWQPIYQTCGRLMAVELLTVVTHPLNPSQRLPPDRYFTEITVSHRMEVVKEQIDLLAQKADFFIEHGLLASVNIDGPTLIALRQQPKILRQIERLPWLRFELVEHIRLPKDSTFASMCEFGPLWLDDFGTGMANFSALSEVRYDYIKIARELFVMLRQSPEGRTLFSQLLHLMNRYCRGVIVEGVETPEEWRDVQNSPAFAAQGWFLSRPAPIETLNTAVLAL'),\n",
       " ('P37647',\n",
       "  'MSKKIAVIGECMIELSEKGADVKRGFGGDTLNTSVYIARQVDPAALTVHYVTALGTDSFSQQMLDAWHGENVDTSLTQRMENRLPGLYYIETDSTGERTFYYWRNEAAAKFWLESEQSAAICEELANFDYLYLSGISLAILSPTSREKLLSLLRECRANGGKVIFDNNYRPRLWASKEETQQVYQQMLECTDIAFLTLDDEDALWGQQPVEDVIARTHNAGVKEVVVKRGADSCLVSIAGEGLVDVPAVKLPKEKVIDTTAAGDSFSAGYLAVRLTGGSAEDAAKRGHLTASTVIQYRGAIIPREAMPA'),\n",
       " ('P37645',\n",
       "  'MSKAGKITAAISGAFLLLIVVAIILIATFDWNRLKPTINQKVSAELNRPFAIRGDLGVVWERQKQETGWRSWVPWPHVHAEDIILGNPPDIPEVTMVHLPRVEATLAPLALLTKTVWLPWIKLEKPDARLIRLSEKNNNWTFNLANDDNKDANAKPSAWSFRLDNILFDQGRIAIDDKVSKADLEIFVDPLGKPLPFSEVTGSKGKADKEKVGDYVFGLKAQGRYNGEPLTGTGKIGGMLALRGEGTPFPVQADFRSGNTRVAFDGVVNDPMKMGGVDLRLKFSGDSLGDLYELTGVLLPDTPPFETDGRLVAKIDTEKSSVFDYRGFNGRIGDSDIHGSLVYTTGKPRPKLEGDVESRQLRLADLGPLIGVDSGKGAEKSKRSEQKKGEKSVQPAGKVLPYDRFETDKWDVMDADVRFKGRRIEHGSSLPISDLSTHIILKNADLRLQPLKFGMAGGSIAANIHLEGDKKPMQGRADIQARRLKLKELMPDVELMQKTLGEMNGDAELRGSGNSVAALLGNSNGNLKLLMNDGLVSRNLMEIVGLNVGNYIVGAIFGDDEVRVNCAAANLNIANGVARPQIFAFDTENALINVTGTASFASEQLDLTIDPESKGIRIITLRSPLYVRGTFKNPQAGVKAGPLIARGAVAAALATLVTPAAALLALISPSEGEANQCRTILSQMKK')]"
      ]
     },
     "execution_count": 7,
     "metadata": {},
     "output_type": "execute_result"
    }
   ],
   "source": [
    "fa.an2aaseq_dict.items()[:3]"
   ]
  },
  {
   "cell_type": "code",
   "execution_count": 8,
   "metadata": {
    "collapsed": true
   },
   "outputs": [],
   "source": [
    "aaseq = fa.an2aaseq_dict[\"P37646\"]"
   ]
  },
  {
   "cell_type": "code",
   "execution_count": 60,
   "metadata": {},
   "outputs": [
    {
     "name": "stderr",
     "output_type": "stream",
     "text": [
      "100%|██████████| 4306/4306 [00:05<00:00, 779.72it/s]\n"
     ]
    },
    {
     "data": {
      "text/plain": [
       "186554"
      ]
     },
     "execution_count": 60,
     "metadata": {},
     "output_type": "execute_result"
    }
   ],
   "source": [
    "missed_cleavages = 2\n",
    "min_length = 7\n",
    "max_length = 25\n",
    "# enzyme = \"trypsin_no_exceptions\"\n",
    "enzyme = \"trypsin\"\n",
    "peptide_list = []\n",
    "for an, aaseq in tqdm(fa.an2aaseq_dict.items()):\n",
    "    peptide_list += fnc.cleave(aaseq, fnc.expasy_rules[enzyme], missed_cleavages=missed_cleavages, min_length=min_length)\n",
    "\n",
    "if max_length is not None:\n",
    "    peptide_list = [ele for ele in peptide_list if len(ele) <= max_length]\n",
    "len(peptide_list)"
   ]
  },
  {
   "cell_type": "code",
   "execution_count": 61,
   "metadata": {},
   "outputs": [
    {
     "data": {
      "text/plain": [
       "'P62399'"
      ]
     },
     "execution_count": 61,
     "metadata": {},
     "output_type": "execute_result"
    }
   ],
   "source": [
    "an"
   ]
  },
  {
   "cell_type": "code",
   "execution_count": 59,
   "metadata": {},
   "outputs": [
    {
     "data": {
      "text/plain": [
       "'MAKLHDYYKDEVVKKLMTEFNYNSVMQVPRVEKITLNMGVGEAIADKKLLDNAAADLAAISGQKPLITKARKSVAGFKIRQGYPIGCKVTLRGERMWEFFERLITIAVPRIRDFRGLSAKSFDGRGNYSMGVREQIIFPEIDYDKVDRVRGLDITITTTAKSDEEGRALLAAFDFPFRK'"
      ]
     },
     "execution_count": 59,
     "metadata": {},
     "output_type": "execute_result"
    }
   ],
   "source": [
    "aaseq"
   ]
  },
  {
   "cell_type": "code",
   "execution_count": 56,
   "metadata": {},
   "outputs": [
    {
     "name": "stderr",
     "output_type": "stream",
     "text": [
      "100%|██████████| 4306/4306 [00:00<00:00, 1340608.15it/s]\n"
     ]
    }
   ],
   "source": [
    "counter = 0\n",
    "for ele in tqdm(fa.an2aaseq_dict.items()):\n",
    "    counter += 1"
   ]
  },
  {
   "cell_type": "code",
   "execution_count": 35,
   "metadata": {},
   "outputs": [],
   "source": [
    "# peptide_list.sort(key = lambda pep: len(pep))\n",
    "peptide_list.sort(key = len)"
   ]
  },
  {
   "cell_type": "code",
   "execution_count": 36,
   "metadata": {},
   "outputs": [
    {
     "data": {
      "text/plain": [
       "(['ELFVMLR', 'FWLQCER', 'ILRQIER'],\n",
       " ['TFTTRNQLTSNQSILMNLVDGPFKK',\n",
       "  'LTIVGRLDNLFFSGGEGIQPEEVER',\n",
       "  'SFDGRGNYSMGVREQIIFPEIDYDK'])"
      ]
     },
     "execution_count": 36,
     "metadata": {},
     "output_type": "execute_result"
    }
   ],
   "source": [
    "peptide_list[:3], peptide_list[-3:]"
   ]
  },
  {
   "cell_type": "code",
   "execution_count": 38,
   "metadata": {},
   "outputs": [
    {
     "data": {
      "text/plain": [
       "['E', 'L', 'V', 'I', 'S']"
      ]
     },
     "execution_count": 38,
     "metadata": {},
     "output_type": "execute_result"
    }
   ],
   "source": [
    "peptide = \"ELVIS\"\n",
    "peptide_as_list = list(peptide)\n",
    "peptide_as_list"
   ]
  },
  {
   "cell_type": "code",
   "execution_count": 39,
   "metadata": {},
   "outputs": [
    {
     "data": {
      "text/plain": [
       "'S'"
      ]
     },
     "execution_count": 39,
     "metadata": {},
     "output_type": "execute_result"
    }
   ],
   "source": [
    "peptide_as_list[-1]"
   ]
  },
  {
   "cell_type": "code",
   "execution_count": 40,
   "metadata": {
    "collapsed": true
   },
   "outputs": [],
   "source": [
    "aa_2_count = \"K\"\n",
    "N_0, N_1, N_2, N_3 = 0, 0, 0, 0\n",
    "C_0, C_1, C_2, C_3 = 0, 0, 0, 0\n",
    "for peptide in peptide_list:\n",
    "    peptide_as_list = list(peptide)\n",
    "    if peptide_as_list[0] == aa_2_count:\n",
    "        N_0 += 1\n",
    "    if peptide_as_list[1] == aa_2_count:\n",
    "        N_1 += 1\n",
    "    if peptide_as_list[2] == aa_2_count:\n",
    "        N_2 += 1\n",
    "    if peptide_as_list[3] == aa_2_count:\n",
    "        N_3 += 1\n",
    "\n",
    "    if peptide_as_list[-1] == aa_2_count:\n",
    "        C_0 += 1\n",
    "    if peptide_as_list[-2] == aa_2_count:\n",
    "        C_1 += 1\n",
    "    if peptide_as_list[-3] == aa_2_count:\n",
    "        C_2 += 1\n",
    "    if peptide_as_list[-4] == aa_2_count:\n",
    "        C_3 += 1"
   ]
  },
  {
   "cell_type": "code",
   "execution_count": 41,
   "metadata": {},
   "outputs": [
    {
     "data": {
      "text/plain": [
       "(6854, 6732, 6955, 6919)"
      ]
     },
     "execution_count": 41,
     "metadata": {},
     "output_type": "execute_result"
    }
   ],
   "source": [
    "N_0, N_1, N_2, N_3"
   ]
  },
  {
   "cell_type": "code",
   "execution_count": 42,
   "metadata": {},
   "outputs": [
    {
     "data": {
      "text/plain": [
       "(79369, 7001, 6404, 6603)"
      ]
     },
     "execution_count": 42,
     "metadata": {},
     "output_type": "execute_result"
    }
   ],
   "source": [
    "C_0, C_1, C_2, C_3"
   ]
  },
  {
   "cell_type": "code",
   "execution_count": 44,
   "metadata": {
    "collapsed": true
   },
   "outputs": [],
   "source": [
    "x = [1,2,3,4,-4,-3,-2,-1]\n",
    "\n",
    "y = [N_0, N_1, N_2, N_3, C_3, C_2, C_1, C_0]"
   ]
  },
  {
   "cell_type": "code",
   "execution_count": 47,
   "metadata": {},
   "outputs": [
    {
     "data": {
      "text/plain": [
       "[6854, 6732, 6955, 6919, 6603, 6404, 7001, 79369]"
      ]
     },
     "execution_count": 47,
     "metadata": {},
     "output_type": "execute_result"
    }
   ],
   "source": [
    "y"
   ]
  },
  {
   "cell_type": "code",
   "execution_count": 50,
   "metadata": {},
   "outputs": [
    {
     "data": {
      "image/png": "[encoded data removed]",
      "text/plain": [
       "<matplotlib.figure.Figure at 0x10ff7d690>"
      ]
     },
     "metadata": {},
     "output_type": "display_data"
    }
   ],
   "source": [
    "fig, ax = plt.subplots()\n",
    "ind = np.arange(len(y))  # the x locations for the groups\n",
    "rects1 = ax.bar(ind, y)"
   ]
  },
  {
   "cell_type": "code",
   "execution_count": 51,
   "metadata": {},
   "outputs": [
    {
     "data": {
      "text/plain": [
       "'Position\\tCount\\n'"
      ]
     },
     "execution_count": 51,
     "metadata": {},
     "output_type": "execute_result"
    }
   ],
   "source": [
    "\"Position\\tCount\\n\""
   ]
  },
  {
   "cell_type": "code",
   "execution_count": null,
   "metadata": {
    "collapsed": true
   },
   "outputs": [],
   "source": []
  }
 ],
 "metadata": {
  "kernelspec": {
   "display_name": "Python 2",
   "language": "python",
   "name": "python2"
  },
  "language_info": {
   "codemirror_mode": {
    "name": "ipython",
    "version": 2
   },
   "file_extension": ".py",
   "mimetype": "text/x-python",
   "name": "python",
   "nbconvert_exporter": "python",
   "pygments_lexer": "ipython2",
   "version": "2.7.13"
  }
 },
 "nbformat": 4,
 "nbformat_minor": 1
}
