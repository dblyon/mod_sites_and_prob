{
 "cells": [
  {
   "cell_type": "code",
   "execution_count": 5,
   "metadata": {
    "collapsed": false
   },
   "outputs": [],
   "source": [
    "import numpy as np\n",
    "import pandas as pd\n",
    "import os, re, sys\n",
    "pd.set_option(\"max_columns\", 500)"
   ]
  },
  {
   "cell_type": "code",
   "execution_count": 24,
   "metadata": {
    "collapsed": false
   },
   "outputs": [
    {
     "name": "stdout",
     "output_type": "stream",
     "text": [
      "(157412, 75)\n",
      "(157412, 75)\n"
     ]
    }
   ],
   "source": [
    "df = pd.read_csv(r\"/Users/dblyon/CloudStation/CPR/BTW_sites/evidence.txt\", sep='\\t')\n",
    "print df.shape\n",
    "df.dropna(axis=0, how=\"all\", inplace=True)\n",
    "print df.shape"
   ]
  },
  {
   "cell_type": "code",
   "execution_count": 8,
   "metadata": {
    "collapsed": false
   },
   "outputs": [],
   "source": [
    "# df.head()"
   ]
  },
  {
   "cell_type": "code",
   "execution_count": 25,
   "metadata": {
    "collapsed": false
   },
   "outputs": [
    {
     "data": {
      "text/plain": [
       "<module 'sites' from 'sites.py'>"
      ]
     },
     "execution_count": 25,
     "metadata": {},
     "output_type": "execute_result"
    }
   ],
   "source": [
    "import sites\n",
    "reload(sites)"
   ]
  },
  {
   "cell_type": "code",
   "execution_count": 26,
   "metadata": {
    "collapsed": false
   },
   "outputs": [
    {
     "name": "stdout",
     "output_type": "stream",
     "text": [
      "(157412, 6)\n",
      "(68804, 6)\n"
     ]
    }
   ],
   "source": [
    "fn_fasta = r\"/Users/dblyon/CloudStation/CPR/BTW_sites/MOUSE20150706.fasta\"\n",
    "fn_evidence = r\"/Users/dblyon/CloudStation/CPR/BTW_sites/evidence.txt\"\n",
    "fn_output = r\"/Users/dblyon/CloudStation/CPR/BTW_sites/evidence_output.txt\"\n",
    "probability_threshold = 0.0\n",
    "conventional_counting = 1\n",
    "remove_n_terminal_acetylation = True\n",
    "df = sites.run_sites(fn_fasta, fn_evidence, fn_output, probability_threshold, conventional_counting, remove_n_terminal_acetylation)"
   ]
  },
  {
   "cell_type": "code",
   "execution_count": 27,
   "metadata": {
    "collapsed": false
   },
   "outputs": [
    {
     "data": {
      "text/html": [
       "<div>\n",
       "<table border=\"1\" class=\"dataframe\">\n",
       "  <thead>\n",
       "    <tr style=\"text-align: right;\">\n",
       "      <th></th>\n",
       "      <th>id</th>\n",
       "      <th>Modified sequence</th>\n",
       "      <th>Acetyl (K) Probabilities</th>\n",
       "      <th>Leading razor protein</th>\n",
       "      <th>Sites</th>\n",
       "      <th>Probability</th>\n",
       "    </tr>\n",
       "  </thead>\n",
       "  <tbody>\n",
       "    <tr>\n",
       "      <th>0</th>\n",
       "      <td>0</td>\n",
       "      <td>_AAAAASAK(ac)K_</td>\n",
       "      <td>AAAAASAK(1)K</td>\n",
       "      <td>Q80ZM5</td>\n",
       "      <td>170</td>\n",
       "      <td>1.0</td>\n",
       "    </tr>\n",
       "    <tr>\n",
       "      <th>1</th>\n",
       "      <td>1</td>\n",
       "      <td>_AAAAASAK(ac)K_</td>\n",
       "      <td>AAAAASAK(1)K</td>\n",
       "      <td>Q80ZM5</td>\n",
       "      <td>170</td>\n",
       "      <td>1.0</td>\n",
       "    </tr>\n",
       "    <tr>\n",
       "      <th>6</th>\n",
       "      <td>6</td>\n",
       "      <td>_AAADDGEEPKSEPETK(ac)K_</td>\n",
       "      <td>AAADDGEEPK(0.006)SEPETK(0.994)K</td>\n",
       "      <td>P28352</td>\n",
       "      <td>23</td>\n",
       "      <td>0.994</td>\n",
       "    </tr>\n",
       "    <tr>\n",
       "      <th>7</th>\n",
       "      <td>7</td>\n",
       "      <td>_AAADDGEEPKSEPETK(ac)K_</td>\n",
       "      <td>AAADDGEEPKSEPETK(1)K</td>\n",
       "      <td>P28352</td>\n",
       "      <td>23</td>\n",
       "      <td>1.0</td>\n",
       "    </tr>\n",
       "    <tr>\n",
       "      <th>8</th>\n",
       "      <td>8</td>\n",
       "      <td>_AAADDGEEPKSEPETK(ac)K_</td>\n",
       "      <td>AAADDGEEPK(0.007)SEPETK(0.993)K</td>\n",
       "      <td>P28352</td>\n",
       "      <td>23</td>\n",
       "      <td>0.993</td>\n",
       "    </tr>\n",
       "  </tbody>\n",
       "</table>\n",
       "</div>"
      ],
      "text/plain": [
       "   id        Modified sequence         Acetyl (K) Probabilities  \\\n",
       "0   0          _AAAAASAK(ac)K_                     AAAAASAK(1)K   \n",
       "1   1          _AAAAASAK(ac)K_                     AAAAASAK(1)K   \n",
       "6   6  _AAADDGEEPKSEPETK(ac)K_  AAADDGEEPK(0.006)SEPETK(0.994)K   \n",
       "7   7  _AAADDGEEPKSEPETK(ac)K_             AAADDGEEPKSEPETK(1)K   \n",
       "8   8  _AAADDGEEPKSEPETK(ac)K_  AAADDGEEPK(0.007)SEPETK(0.993)K   \n",
       "\n",
       "  Leading razor protein Sites Probability  \n",
       "0                Q80ZM5   170         1.0  \n",
       "1                Q80ZM5   170         1.0  \n",
       "6                P28352    23       0.994  \n",
       "7                P28352    23         1.0  \n",
       "8                P28352    23       0.993  "
      ]
     },
     "execution_count": 27,
     "metadata": {},
     "output_type": "execute_result"
    }
   ],
   "source": [
    "df.head()"
   ]
  },
  {
   "cell_type": "code",
   "execution_count": 28,
   "metadata": {
    "collapsed": false
   },
   "outputs": [
    {
     "data": {
      "text/plain": [
       "(68804, 6)"
      ]
     },
     "execution_count": 28,
     "metadata": {},
     "output_type": "execute_result"
    }
   ],
   "source": [
    "df.shape"
   ]
  },
  {
   "cell_type": "code",
   "execution_count": null,
   "metadata": {
    "collapsed": true
   },
   "outputs": [],
   "source": []
  }
 ],
 "metadata": {
  "kernelspec": {
   "display_name": "Python 2",
   "language": "python",
   "name": "python2"
  },
  "language_info": {
   "codemirror_mode": {
    "name": "ipython",
    "version": 2
   },
   "file_extension": ".py",
   "mimetype": "text/x-python",
   "name": "python",
   "nbconvert_exporter": "python",
   "pygments_lexer": "ipython2",
   "version": "2.7.12"
  }
 },
 "nbformat": 4,
 "nbformat_minor": 0
}
